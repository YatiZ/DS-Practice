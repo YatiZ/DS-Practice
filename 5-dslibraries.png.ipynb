{
 "cells": [
  {
   "cell_type": "markdown",
   "id": "f36654d6",
   "metadata": {},
   "source": [
    "# Exercise 5"
   ]
  },
  {
   "cell_type": "markdown",
   "id": "2e1d6881",
   "metadata": {},
   "source": [
    "### An introductory "
   ]
  },
  {
   "cell_type": "markdown",
   "id": "e64ef0d4",
   "metadata": {},
   "source": [
    "### List of data science libraries\n",
    "#### 1-NumPy\n",
    "#### 2-Pandas\n",
    "#### 3-Matplotlib\n",
    "#### 4-Seaborn\n",
    "#### 5-Plotly\n",
    "#### 6-Scikit-learn\n",
    "#### 7-Tensor Flow\n",
    "#### 8-NLTK\n",
    "#### 9-Hadoop"
   ]
  },
  {
   "cell_type": "code",
   "execution_count": null,
   "id": "1b594b6b",
   "metadata": {},
   "outputs": [],
   "source": []
  }
 ],
 "metadata": {
  "kernelspec": {
   "display_name": "Python 3 (ipykernel)",
   "language": "python",
   "name": "python3"
  },
  "language_info": {
   "codemirror_mode": {
    "name": "ipython",
    "version": 3
   },
   "file_extension": ".py",
   "mimetype": "text/x-python",
   "name": "python",
   "nbconvert_exporter": "python",
   "pygments_lexer": "ipython3",
   "version": "3.9.13"
  }
 },
 "nbformat": 4,
 "nbformat_minor": 5
}
