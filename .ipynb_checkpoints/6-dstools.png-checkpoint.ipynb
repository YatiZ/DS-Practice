{
 "cells": [
  {
   "cell_type": "markdown",
   "id": "1bb04eea",
   "metadata": {},
   "source": [
    "# A table of Data Science tools"
   ]
  },
  {
   "cell_type": "markdown",
   "id": "ae82f3d7",
   "metadata": {},
   "source": [
    "| Tool           | Description                              | Language      |\n",
    "|----------------|------------------------------------------|---------------|\n",
    "| Jupyter Notebook| Interactive coding environment          | Python        |\n",
    "| RStudio        | IDE for R programming                   | R             |\n",
    "| Pandas         | Data manipulation and analysis library   | Python        |\n",
    "| NumPy          | Library for numerical operations         | Python        |\n",
    "| Matplotlib     | Plotting library for Python             | Python        |\n",
    "| Scikit-learn   | Machine learning library for Python     | Python        |\n",
    "| TensorFlow     | Open-source framework for deep learning  | Python        |\n",
    "| PyTorch        | Deep learning library                    | Python        |\n",
    "| SQL            | Language for managing relational databases| SQL           |\n",
    "| Tableau        | Data visualization tool                  | N/A           |\n"
   ]
  },
  {
   "cell_type": "code",
   "execution_count": null,
   "id": "21339801",
   "metadata": {},
   "outputs": [],
   "source": []
  }
 ],
 "metadata": {
  "kernelspec": {
   "display_name": "Python 3 (ipykernel)",
   "language": "python",
   "name": "python3"
  },
  "language_info": {
   "codemirror_mode": {
    "name": "ipython",
    "version": 3
   },
   "file_extension": ".py",
   "mimetype": "text/x-python",
   "name": "python",
   "nbconvert_exporter": "python",
   "pygments_lexer": "ipython3",
   "version": "3.9.13"
  }
 },
 "nbformat": 4,
 "nbformat_minor": 5
}
